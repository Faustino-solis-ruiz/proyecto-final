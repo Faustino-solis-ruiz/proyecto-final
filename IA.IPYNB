# proyecto-final
inteligencia arti
{
 "cells": [
  {
   "cell_type": "code",
   "execution_count": null,
   "metadata": {},
   "outputs": [],
   "source": [
    "from PIL import Image\n",
    "from pytesseract import *\n",
    "\n",
    "pytesseract.tesseract_cmd = r'C:\\Users\\Usuario\\AppData\\Local\\Programs\\Tesseract-OCR\\tesseract.exe'\n",
    "\n",
    "img = Image.open('image.png')\n",
    "\n",
    "resultado = pytesseract.image_to_string(img)\n",
    "\n",
    "print(resultado)"
   ]
  }
 ],
 "metadata": {
  "language_info": {
   "name": "python"
  },
  "orig_nbformat": 4
 },
 "nbformat": 4,
 "nbformat_minor": 2
}
